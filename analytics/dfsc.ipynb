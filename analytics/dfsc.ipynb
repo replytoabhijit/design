{
 "cells": [
  {
   "cell_type": "code",
   "execution_count": 2,
   "id": "6d9e8e13",
   "metadata": {},
   "outputs": [
    {
     "name": "stdout",
     "output_type": "stream",
     "text": [
      "   EmployeeID        Name  Age Department  Salary  \\\n",
      "0        1001  Employee_1   50      Sales   92711   \n",
      "1        1002  Employee_2   36         HR   71323   \n",
      "2        1003  Employee_3   29      Sales   48752   \n",
      "3        1004  Employee_4   42      Sales  112205   \n",
      "4        1005  Employee_5   40    Finance   43395   \n",
      "\n",
      "                     JoiningDate  \n",
      "0  1970-01-01 00:00:00.000018616  \n",
      "1  1970-01-01 00:00:00.000019664  \n",
      "2  1970-01-01 00:00:00.000018478  \n",
      "3  1970-01-01 00:00:00.000018810  \n",
      "4  1970-01-01 00:00:00.000014811  \n",
      "        EmployeeID          Age         Salary\n",
      "count  1000.000000  1000.000000    1000.000000\n",
      "mean   1500.500000    40.947000   73821.873000\n",
      "std     288.819436    11.160858   25809.264454\n",
      "min    1001.000000    22.000000   30155.000000\n",
      "25%    1250.750000    31.000000   51577.500000\n",
      "50%    1500.500000    42.000000   73942.000000\n",
      "75%    1750.250000    50.000000   95433.500000\n",
      "max    2000.000000    59.000000  119906.000000\n",
      "0    Employee_1\n",
      "1    Employee_2\n",
      "2    Employee_3\n",
      "3    Employee_4\n",
      "4    Employee_5\n",
      "Name: Name, dtype: object\n"
     ]
    }
   ],
   "source": [
    "#This is dataframe cheetsheet\n",
    "import pandas as pd\n",
    "import numpy as np\n",
    "\n",
    "df = pd.read_csv('/Users/abhijitkumar/projects/design/analytics/employees1.csv')\n",
    "print(df.head())\n",
    "print(df.describe())\n",
    "\n",
    "df1 = df['Name']\n",
    "print(df1.head()) "
   ]
  },
  {
   "cell_type": "code",
   "execution_count": 4,
   "id": "081b4f15",
   "metadata": {},
   "outputs": [
    {
     "data": {
      "text/html": [
       "<div>\n",
       "<style scoped>\n",
       "    .dataframe tbody tr th:only-of-type {\n",
       "        vertical-align: middle;\n",
       "    }\n",
       "\n",
       "    .dataframe tbody tr th {\n",
       "        vertical-align: top;\n",
       "    }\n",
       "\n",
       "    .dataframe thead th {\n",
       "        text-align: right;\n",
       "    }\n",
       "</style>\n",
       "<table border=\"1\" class=\"dataframe\">\n",
       "  <thead>\n",
       "    <tr style=\"text-align: right;\">\n",
       "      <th></th>\n",
       "      <th>EmployeeID</th>\n",
       "      <th>Name</th>\n",
       "      <th>Age</th>\n",
       "      <th>Department</th>\n",
       "      <th>Salary</th>\n",
       "      <th>JoiningDate</th>\n",
       "    </tr>\n",
       "  </thead>\n",
       "  <tbody>\n",
       "    <tr>\n",
       "      <th>884</th>\n",
       "      <td>1885</td>\n",
       "      <td>Employee_885</td>\n",
       "      <td>50</td>\n",
       "      <td>Marketing</td>\n",
       "      <td>119906</td>\n",
       "      <td>1970-01-01 00:00:00.000019066</td>\n",
       "    </tr>\n",
       "    <tr>\n",
       "      <th>166</th>\n",
       "      <td>1167</td>\n",
       "      <td>Employee_167</td>\n",
       "      <td>22</td>\n",
       "      <td>HR</td>\n",
       "      <td>119881</td>\n",
       "      <td>1970-01-01 00:00:00.000015750</td>\n",
       "    </tr>\n",
       "    <tr>\n",
       "      <th>368</th>\n",
       "      <td>1369</td>\n",
       "      <td>Employee_369</td>\n",
       "      <td>58</td>\n",
       "      <td>IT</td>\n",
       "      <td>119822</td>\n",
       "      <td>1970-01-01 00:00:00.000015734</td>\n",
       "    </tr>\n",
       "    <tr>\n",
       "      <th>144</th>\n",
       "      <td>1145</td>\n",
       "      <td>Employee_145</td>\n",
       "      <td>29</td>\n",
       "      <td>Sales</td>\n",
       "      <td>119818</td>\n",
       "      <td>1970-01-01 00:00:00.000015913</td>\n",
       "    </tr>\n",
       "    <tr>\n",
       "      <th>839</th>\n",
       "      <td>1840</td>\n",
       "      <td>Employee_840</td>\n",
       "      <td>35</td>\n",
       "      <td>Finance</td>\n",
       "      <td>119709</td>\n",
       "      <td>1970-01-01 00:00:00.000016147</td>\n",
       "    </tr>\n",
       "    <tr>\n",
       "      <th>...</th>\n",
       "      <td>...</td>\n",
       "      <td>...</td>\n",
       "      <td>...</td>\n",
       "      <td>...</td>\n",
       "      <td>...</td>\n",
       "      <td>...</td>\n",
       "    </tr>\n",
       "    <tr>\n",
       "      <th>653</th>\n",
       "      <td>1654</td>\n",
       "      <td>Employee_654</td>\n",
       "      <td>39</td>\n",
       "      <td>IT</td>\n",
       "      <td>30282</td>\n",
       "      <td>1970-01-01 00:00:00.000017245</td>\n",
       "    </tr>\n",
       "    <tr>\n",
       "      <th>897</th>\n",
       "      <td>1898</td>\n",
       "      <td>Employee_898</td>\n",
       "      <td>23</td>\n",
       "      <td>Sales</td>\n",
       "      <td>30193</td>\n",
       "      <td>1970-01-01 00:00:00.000018264</td>\n",
       "    </tr>\n",
       "    <tr>\n",
       "      <th>158</th>\n",
       "      <td>1159</td>\n",
       "      <td>Employee_159</td>\n",
       "      <td>38</td>\n",
       "      <td>HR</td>\n",
       "      <td>30163</td>\n",
       "      <td>1970-01-01 00:00:00.000015917</td>\n",
       "    </tr>\n",
       "    <tr>\n",
       "      <th>496</th>\n",
       "      <td>1497</td>\n",
       "      <td>Employee_497</td>\n",
       "      <td>28</td>\n",
       "      <td>Marketing</td>\n",
       "      <td>30162</td>\n",
       "      <td>1970-01-01 00:00:00.000016162</td>\n",
       "    </tr>\n",
       "    <tr>\n",
       "      <th>746</th>\n",
       "      <td>1747</td>\n",
       "      <td>Employee_747</td>\n",
       "      <td>38</td>\n",
       "      <td>IT</td>\n",
       "      <td>30155</td>\n",
       "      <td>1970-01-01 00:00:00.000019148</td>\n",
       "    </tr>\n",
       "  </tbody>\n",
       "</table>\n",
       "<p>1000 rows × 6 columns</p>\n",
       "</div>"
      ],
      "text/plain": [
       "     EmployeeID          Name  Age Department  Salary  \\\n",
       "884        1885  Employee_885   50  Marketing  119906   \n",
       "166        1167  Employee_167   22         HR  119881   \n",
       "368        1369  Employee_369   58         IT  119822   \n",
       "144        1145  Employee_145   29      Sales  119818   \n",
       "839        1840  Employee_840   35    Finance  119709   \n",
       "..          ...           ...  ...        ...     ...   \n",
       "653        1654  Employee_654   39         IT   30282   \n",
       "897        1898  Employee_898   23      Sales   30193   \n",
       "158        1159  Employee_159   38         HR   30163   \n",
       "496        1497  Employee_497   28  Marketing   30162   \n",
       "746        1747  Employee_747   38         IT   30155   \n",
       "\n",
       "                       JoiningDate  \n",
       "884  1970-01-01 00:00:00.000019066  \n",
       "166  1970-01-01 00:00:00.000015750  \n",
       "368  1970-01-01 00:00:00.000015734  \n",
       "144  1970-01-01 00:00:00.000015913  \n",
       "839  1970-01-01 00:00:00.000016147  \n",
       "..                             ...  \n",
       "653  1970-01-01 00:00:00.000017245  \n",
       "897  1970-01-01 00:00:00.000018264  \n",
       "158  1970-01-01 00:00:00.000015917  \n",
       "496  1970-01-01 00:00:00.000016162  \n",
       "746  1970-01-01 00:00:00.000019148  \n",
       "\n",
       "[1000 rows x 6 columns]"
      ]
     },
     "execution_count": 4,
     "metadata": {},
     "output_type": "execute_result"
    }
   ],
   "source": [
    "df.sort_values('Salary', ascending=False)"
   ]
  },
  {
   "cell_type": "code",
   "execution_count": 8,
   "id": "c9910c62",
   "metadata": {},
   "outputs": [
    {
     "data": {
      "text/plain": [
       "np.int64(119822)"
      ]
     },
     "execution_count": 8,
     "metadata": {},
     "output_type": "execute_result"
    }
   ],
   "source": [
    "thirdlargest = df['Salary'].nlargest(3).iloc[-1]\n",
    "thirdlargest"
   ]
  },
  {
   "cell_type": "code",
   "execution_count": 9,
   "id": "6ffa2b7c",
   "metadata": {},
   "outputs": [
    {
     "name": "stdout",
     "output_type": "stream",
     "text": [
      "   EmployeeID        Name  Age Department  Salary  \\\n",
      "0        1001  Employee_1   50      Sales   92711   \n",
      "1        1002  Employee_2   36         HR   71323   \n",
      "2        1003  Employee_3   29      Sales   48752   \n",
      "3        1004  Employee_4   42      Sales  112205   \n",
      "4        1005  Employee_5   40    Finance   43395   \n",
      "\n",
      "                     JoiningDate  new_salary  \n",
      "0  1970-01-01 00:00:00.000018616    101982.1  \n",
      "1  1970-01-01 00:00:00.000019664     78455.3  \n",
      "2  1970-01-01 00:00:00.000018478     53627.2  \n",
      "3  1970-01-01 00:00:00.000018810    123425.5  \n",
      "4  1970-01-01 00:00:00.000014811     47734.5  \n"
     ]
    }
   ],
   "source": [
    "df['new_salary'] = df['Salary'] * 1.1\n",
    "print(df.head())"
   ]
  },
  {
   "cell_type": "code",
   "execution_count": 11,
   "id": "0fbb84d6",
   "metadata": {},
   "outputs": [
    {
     "data": {
      "text/plain": [
       "Index(['EmployeeID', 'Name', 'Age', 'Department', 'Salary', 'JoiningDate',\n",
       "       'new_salary'],\n",
       "      dtype='object')"
      ]
     },
     "execution_count": 11,
     "metadata": {},
     "output_type": "execute_result"
    }
   ],
   "source": [
    "df.columns"
   ]
  },
  {
   "cell_type": "code",
   "execution_count": null,
   "id": "82bef41a",
   "metadata": {},
   "outputs": [],
   "source": []
  }
 ],
 "metadata": {
  "kernelspec": {
   "display_name": "websenv",
   "language": "python",
   "name": "python3"
  },
  "language_info": {
   "codemirror_mode": {
    "name": "ipython",
    "version": 3
   },
   "file_extension": ".py",
   "mimetype": "text/x-python",
   "name": "python",
   "nbconvert_exporter": "python",
   "pygments_lexer": "ipython3",
   "version": "3.10.18"
  }
 },
 "nbformat": 4,
 "nbformat_minor": 5
}
